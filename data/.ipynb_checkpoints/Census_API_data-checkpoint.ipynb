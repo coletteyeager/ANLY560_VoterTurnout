{
 "cells": [
  {
   "cell_type": "code",
   "execution_count": 1,
   "id": "e64d0c9b",
   "metadata": {},
   "outputs": [],
   "source": [
    "# Import packages\n",
    "import pandas as pd\n",
    "import numpy as np\n",
    "import requests"
   ]
  },
  {
   "cell_type": "code",
   "execution_count": 2,
   "id": "8e5fda94",
   "metadata": {},
   "outputs": [],
   "source": [
    "# Set dictionaries for organizing data\n",
    "statedict = {'AL': '1', 'AK': '2', 'AZ': '4', 'AR': '5', 'CA': '6', 'CO': '8', 'CT': '9', 'DE': '10', 'DC': '11', 'FL': '12',\n",
    "             'GA': '13', 'HI': '15', 'ID': '16', 'IL': '17', 'IN': '18', 'IA': '19', 'KS': '20', 'KY': '21', 'LA': '22', \n",
    "             'ME':'23', 'MD': '24', 'MA': '25', 'MI': '26', 'MN': '27', 'MS': '28', 'MO': '29', 'MT': '30', 'NE': '31', 'NV': \n",
    "             '32', 'NH': '33', 'NJ': '34', 'NM': '35', 'NY': '36', 'NC': '37', 'ND': '38', 'OH': '39', 'OK': '40', 'OR': '41', \n",
    "             'PA': '42', 'RI': '44', 'SC': '45', 'SD': '46', 'TN': '47', 'TX': '48', 'UT': '49', 'VT': '50', 'VA': '51', 'WA': \n",
    "             '53', 'WV': '54', 'WI': '55', 'WY': '56'}\n",
    "rvsestatedict = {v: k for k, v in statedict.items()}"
   ]
  },
  {
   "cell_type": "code",
   "execution_count": 29,
   "id": "276913cf",
   "metadata": {},
   "outputs": [],
   "source": [
    "# Read in data from Census API\n",
    "def get_data(yr):\n",
    "    url = (f\"http://api.census.gov/data/{yr}/cps/voting/nov\")\n",
    "    # Get parameters - some are called different variables in different years\n",
    "    if (yr == '1994'):\n",
    "        param_list = \"PES3,PES4,GEMETSTA,GEREG,PERACE,PRHSPNON,PESEX,PRTAGE,PEMARITL,HRNUMHOU,PEAFNOW,PEEDUCA,HUFAMINC,PREXPLF,PRFTLF\"\n",
    "    elif(yr == '1996' or yr == '1998' or yr == '2000' or yr == '2002'):\n",
    "        param_list = \"PES1,PES2,GEMETSTA,GEREG,PERACE,PRHSPNON,PESEX,PRTAGE,PEMARITL,HRNUMHOU,PEAFNOW,PEEDUCA,HUFAMINC,PREXPLF,PRFTLF\"\n",
    "    elif(yr == '2004' or yr == '2006' or yr == '2008'):\n",
    "        param_list = \"PES1,PES2,GTMETSTA,GEREG,PTDTRACE,PEHSPNON,PESEX,PRTAGE,PEMARITL,HRNUMHOU,PEAFNOW,PEEDUCA,HUFAMINC,PREXPLF,PRFTLF\"\n",
    "    else:\n",
    "        param_list = \"PES1,PES2,GTMETSTA,GEREG,PTDTRACE,PEHSPNON,PESEX,PRTAGE,PEMARITL,HRNUMHOU,PEAFNOW,PEEDUCA,HEFAMINC,PREXPLF,PRFTLF\"\n",
    "\n",
    "    r = requests.get(url,\n",
    "                     params = {\"get\": param_list,\n",
    "                               \"for\": \"state:*\"})\n",
    "    \n",
    "    census_df = pd.DataFrame(data = r.json())\n",
    "    census_df.rename(columns = census_df.iloc[0], inplace = True)\n",
    "    census_df.drop([0], axis = 0, inplace = True)\n",
    "    # Change column names\n",
    "    census_df.columns = [\"Voted\", \"Registered_to_Vote\", \"Metropolitan\",\n",
    "                         \"Geographic_Region\", \"Race\", \"Hispanic\",\n",
    "                         \"Female\", \"Age\", \"Marital_Status\", \n",
    "                         \"Household_Members\", \"In_Armed_Forces\", \n",
    "                         \"Education_Completed\", \"Family_Income_category\", \"Employment_Status\", \n",
    "                         \"Full_Time\", \"State\"]\n",
    "    # Replace number with state abbreviation\n",
    "    census_df.replace({'State': rvsestatedict}, inplace = True)\n",
    "    # Change column types\n",
    "    census_df = census_df.astype({\"Voted\": int, \"Registered_to_Vote\": int, \"Metropolitan\": int, \n",
    "                                  \"Geographic_Region\": int, \"Race\": int, \"Hispanic\": int, \"Female\": int,\n",
    "                                  \"Age\" : int, \"Marital_Status\": int, \"Household_Members\": int, \n",
    "                                  \"In_Armed_Forces\": int, \"Education_Completed\": int,\n",
    "                                  \"Family_Income_category\": int, \"Employment_Status\": int, \"Full_Time\": int, \"State\": str})\n",
    "    col2 = census_df.pop('State')\n",
    "    census_df.insert(0, 'State', col2)\n",
    "    \n",
    "    census_df.Voted.replace({2: 0, -1: np.nan, -3: np.nan, -9: np.nan, -2: np.nan},inplace = True)\n",
    "    census_df.Registered_to_Vote.replace({2: 0, -1: np.nan, -3: np.nan, -9: np.nan, -2: np.nan}, inplace = True)\n",
    "    # All people who voted were registered to vote, so need to change any NA's in Registered_to_Vote to 1 where Voted is 1\n",
    "    census_df.loc[census_df.Voted == 1, 'Registered_to_Vote'] = 1\n",
    "    census_df.Female.replace({2: 0},inplace = True)\n",
    "    census_df.Hispanic.replace({2: 0}, inplace = True)\n",
    "    census_df.Race = np.where(census_df.Race > 4, \"Other\", census_df.Race)\n",
    "    census_df.Race.replace({'1': \"White\", '2': \"Black\", '4': \"Asian\", '3': \"American Indian, Aluet, Eskimo\"}, inplace = True)\n",
    "    census_df.Marital_Status.replace({2: 1, 3: 0, 4: 0, 5: 0, 6: 0, -1: np.nan},inplace = True)\n",
    "    census_df.In_Armed_Forces.replace({2: 0, -1: np.nan},inplace = True)\n",
    "    census_df.Employment_Status.replace({2: 0, -1: np.nan, 127: np.nan},inplace = True)\n",
    "    census_df.Full_Time.replace({2: 0, -1: np.nan, 127: np.nan},inplace = True)\n",
    "    census_df.Metropolitan.replace({2: 0, 3: np.nan}, inplace = True)\n",
    "    census_df.Geographic_Region.replace({1: \"Northeast\", 2: \"Midwest\", 3: \"South\", 4: \"West\"}, inplace = True)\n",
    "    census_df.Education_Completed = np.where(census_df.Education_Completed < 39, \"No_HS_Diploma\", census_df.Education_Completed)\n",
    "    census_df.Education_Completed.replace({'46': \"Doctorate\", '44': \"Masters\",\n",
    "                                           '39': \"HighSchool/GED\",'42': \"Associates\", \n",
    "                                           '40': \"Some_College\",'-1': np.nan, '43': \"Bachelors\",\n",
    "                                           '45': \"Professional_School\",'41': \"Associates\"},inplace = True)\n",
    "    census_df.Family_Income_category.replace({-1: np.nan, -2: np.nan, -3: np.nan}, inplace = True)\n",
    "\n",
    "    # Create different version of family income variable, 1 if greater than $50,000, 0 if less\n",
    "    census_df['Family_Income_dummy'] = np.where(census_df.Family_Income_category > 11, 1, 0)\n",
    "    # Create different version of family income variable that is the middle of the range (or highest of the range in the case of the lowest value, lowest of the range in the case of the highest value)\n",
    "    census_df['Family_Income_actual'] = census_df.Family_Income_category.replace({1: 5000, 2: 6250, 3: 8250, 4: 11250, 5: 13750, \n",
    "                                                                               6: 17500, 7: 22500, 8: 27500, 9: 32500, 10: 37500,\n",
    "                                                                               11: 45000, 12: 55000, 13: 67500, 14: 87500, \n",
    "                                                                               15: 125000, 16: 150000})\n",
    "    census_df['Year'] = yr\n",
    "    \n",
    "    return census_df"
   ]
  },
  {
   "cell_type": "code",
   "execution_count": 30,
   "id": "e662f590",
   "metadata": {},
   "outputs": [],
   "source": [
    "full_table = get_data(\"1994\")"
   ]
  },
  {
   "cell_type": "code",
   "execution_count": 32,
   "id": "521365e4",
   "metadata": {},
   "outputs": [],
   "source": [
    "years = ['1996', '1998', '2000', '2002', '2004', '2006', '2008', '2010', '2012', '2014', '2016', '2018', '2020']\n",
    "for year in years:\n",
    "    new_tab = get_data(year)\n",
    "    full_table = pd.concat([full_table, new_tab])"
   ]
  },
  {
   "cell_type": "code",
   "execution_count": 34,
   "id": "6e6c34be",
   "metadata": {},
   "outputs": [],
   "source": [
    "full_table.to_csv(\"census_voters.csv\", index = False)"
   ]
  }
 ],
 "metadata": {
  "kernelspec": {
   "display_name": "Python 3",
   "language": "python",
   "name": "python3"
  },
  "language_info": {
   "codemirror_mode": {
    "name": "ipython",
    "version": 3
   },
   "file_extension": ".py",
   "mimetype": "text/x-python",
   "name": "python",
   "nbconvert_exporter": "python",
   "pygments_lexer": "ipython3",
   "version": "3.8.8"
  }
 },
 "nbformat": 4,
 "nbformat_minor": 5
}
